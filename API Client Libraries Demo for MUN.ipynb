{
 "cells": [
  {
   "cell_type": "code",
   "execution_count": null,
   "metadata": {
    "scrolled": true
   },
   "outputs": [],
   "source": [
    "import sys\n",
    "!{sys.executable} -m pip install onc --upgrade\n",
    "!{sys.executable} -m pip install pandas --upgrade"
   ]
  },
  {
   "cell_type": "code",
   "execution_count": null,
   "metadata": {},
   "outputs": [],
   "source": [
    "token='e351aec6-e74e-410d-98a6-28463723e835'"
   ]
  },
  {
   "cell_type": "code",
   "execution_count": null,
   "metadata": {},
   "outputs": [],
   "source": [
    "from onc.onc import ONC\n",
    "onc = ONC(token=token) # remember you saved your token in above cell"
   ]
  },
  {
   "cell_type": "code",
   "execution_count": null,
   "metadata": {},
   "outputs": [],
   "source": [
    "import pandas as pd # a good module with tons of functions (methods)"
   ]
  },
  {
   "cell_type": "code",
   "execution_count": null,
   "metadata": {},
   "outputs": [],
   "source": [
    "filters = {'locationCode': 'HRBIP'}\n",
    "result = onc.getLocations(filters)\n",
    "onc.print(result)"
   ]
  },
  {
   "cell_type": "code",
   "execution_count": null,
   "metadata": {},
   "outputs": [],
   "source": [
    "result = onc.getDeviceCategories({'locationCode': 'HRBIP'})\n",
    "onc.print(result)"
   ]
  },
  {
   "cell_type": "code",
   "execution_count": null,
   "metadata": {},
   "outputs": [],
   "source": [
    "result = onc.getProperties({'locationCode': 'HRBIP', 'deviceCategoryCode': 'CTD'})\n",
    "df  = pd.DataFrame.from_dict(result)\n",
    "df"
   ]
  },
  {
   "cell_type": "code",
   "execution_count": null,
   "metadata": {},
   "outputs": [],
   "source": [
    "filters = {\n",
    "  'locationCode': 'HRBIP',\n",
    "  'deviceCategoryCode': 'CTD',\n",
    "  'dataProductCode': 'TSSP',\n",
    "  'extension': 'png',\n",
    "  'dateFrom': '2021-05-05T00:00:00.000Z',\n",
    "  'dateTo': '2021-05-05T00:30:00.000Z',\n",
    "  'dpo_qualityControl': '1',\n",
    "  'dpo_resample': 'none'\n",
    "}\n",
    "result = onc.orderDataProduct(filters, includeMetadataFile=False)\n",
    " \n",
    "onc.print(result)"
   ]
  },
  {
   "cell_type": "code",
   "execution_count": null,
   "metadata": {},
   "outputs": [],
   "source": [
    "filters = {\n",
    "  'locationCode': 'HRBIP',\n",
    "  'deviceCategoryCode': 'FLUOROMETER',\n",
    "  'propertyCode': 'chlorophyll',\n",
    "  'dateFrom': '2021-05-01T00:00:00.000Z',\n",
    "  'dateTo': '2021-05-01T00:05:00.000Z'\n",
    "}\n",
    "result = onc.getDirectByLocation(filters)\n",
    "onc.print(result)"
   ]
  },
  {
   "cell_type": "code",
   "execution_count": null,
   "metadata": {},
   "outputs": [],
   "source": []
  }
 ],
 "metadata": {
  "kernelspec": {
   "display_name": "Python 3",
   "language": "python",
   "name": "python3"
  },
  "language_info": {
   "codemirror_mode": {
    "name": "ipython",
    "version": 3
   },
   "file_extension": ".py",
   "mimetype": "text/x-python",
   "name": "python",
   "nbconvert_exporter": "python",
   "pygments_lexer": "ipython3",
   "version": "3.7.6"
  }
 },
 "nbformat": 4,
 "nbformat_minor": 4
}
